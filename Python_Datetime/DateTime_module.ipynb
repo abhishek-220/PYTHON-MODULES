{
  "nbformat": 4,
  "nbformat_minor": 0,
  "metadata": {
    "colab": {
      "provenance": []
    },
    "kernelspec": {
      "name": "python3",
      "display_name": "Python 3"
    },
    "language_info": {
      "name": "python"
    }
  },
  "cells": [
    {
      "cell_type": "code",
      "source": [
        "import datetime\n",
        "\n",
        "d = datetime.date(2016,7,2)\n",
        "print(d)"
      ],
      "metadata": {
        "colab": {
          "base_uri": "https://localhost:8080/"
        },
        "id": "SQdMqQXAZFJT",
        "outputId": "245e1048-feab-41ab-a0f1-9767971a6b25"
      },
      "execution_count": 2,
      "outputs": [
        {
          "output_type": "stream",
          "name": "stdout",
          "text": [
            "2016-07-02\n"
          ]
        }
      ]
    },
    {
      "cell_type": "code",
      "source": [
        "d = datetime.date.today()\n",
        "print(d)\n",
        "print(d.weekday())"
      ],
      "metadata": {
        "colab": {
          "base_uri": "https://localhost:8080/"
        },
        "id": "jFlvHNv1ZFGu",
        "outputId": "e5e4401e-242c-40c7-be10-005267005f1c"
      },
      "execution_count": 4,
      "outputs": [
        {
          "output_type": "stream",
          "name": "stdout",
          "text": [
            "2024-04-25\n",
            "3\n"
          ]
        }
      ]
    },
    {
      "cell_type": "code",
      "source": [
        "t = datetime.timedelta(days = 7)\n",
        "\n",
        "print(d+t)"
      ],
      "metadata": {
        "colab": {
          "base_uri": "https://localhost:8080/"
        },
        "id": "65r6IuXCZzcy",
        "outputId": "a2902cf1-909a-4fcf-9e4c-ea55c0c3207b"
      },
      "execution_count": 5,
      "outputs": [
        {
          "output_type": "stream",
          "name": "stdout",
          "text": [
            "2024-05-02\n"
          ]
        }
      ]
    },
    {
      "cell_type": "code",
      "source": [
        "# displayes total seconds from present to 2012 date\n",
        "\n",
        "bday = datetime.date(2012, 12,25)\n",
        "dif = d-bday\n",
        "print(dif.total_seconds())"
      ],
      "metadata": {
        "colab": {
          "base_uri": "https://localhost:8080/"
        },
        "id": "9wIG2G6aaESL",
        "outputId": "a87fc6f9-f701-4549-991e-1efa34dc96ba"
      },
      "execution_count": 8,
      "outputs": [
        {
          "output_type": "stream",
          "name": "stdout",
          "text": [
            "357609600.0\n"
          ]
        }
      ]
    },
    {
      "cell_type": "code",
      "source": [
        "# datetime.time\n",
        "# datetime.date\n",
        "# datetime.datetime\n",
        "# .year, .hour, .month, .seconds, .day"
      ],
      "metadata": {
        "id": "NGjwkBqDafQu"
      },
      "execution_count": null,
      "outputs": []
    },
    {
      "cell_type": "markdown",
      "source": [
        "# **Date Class**\n",
        "\n"
      ],
      "metadata": {
        "id": "t2tpzLCvITCP"
      }
    },
    {
      "cell_type": "code",
      "execution_count": null,
      "metadata": {
        "colab": {
          "base_uri": "https://localhost:8080/"
        },
        "id": "efYVSywQ99fV",
        "outputId": "ea0ffb53-d333-4ec5-9462-8b10f8cc98a1"
      },
      "outputs": [
        {
          "output_type": "stream",
          "name": "stdout",
          "text": [
            "Date passed as argument is 1996-12-11\n"
          ]
        }
      ],
      "source": [
        "# import the date class\n",
        "from datetime import date\n",
        "\n",
        "my_date = date(1996, 12, 11)\n",
        "\n",
        "print(\"Date passed as argument is\", my_date)\n",
        "\n",
        "# Uncommenting my_date = date(1996, 12, 39)\n",
        "# will raise an ValueError as it is\n",
        "# outside range\n",
        "\n",
        "# uncommenting my_date = date('1996', 12, 11)\n",
        "# will raise a TypeError as a string is\n",
        "# passed instead of integer"
      ]
    },
    {
      "cell_type": "code",
      "source": [
        "# calling the today\n",
        "# function of date class\n",
        "today = date.today()\n",
        "\n",
        "print(\"Today's date is\", today)"
      ],
      "metadata": {
        "colab": {
          "base_uri": "https://localhost:8080/"
        },
        "id": "RbD6POTh_FrI",
        "outputId": "4b58ef6e-ccc6-4df4-8911-dead429d8750"
      },
      "execution_count": null,
      "outputs": [
        {
          "output_type": "stream",
          "name": "stdout",
          "text": [
            "Today's date is 2024-04-23\n"
          ]
        }
      ]
    },
    {
      "cell_type": "code",
      "source": [
        "today = date.today()\n",
        "\n",
        "print(\"Current year:\", today.year)\n",
        "print(\"Current month:\", today.month)\n",
        "print(\"Current day:\", today.day)"
      ],
      "metadata": {
        "colab": {
          "base_uri": "https://localhost:8080/"
        },
        "id": "87zmUMcS_FpB",
        "outputId": "d52c97b2-e3b8-41f3-ceb5-1b1846685fb1"
      },
      "execution_count": null,
      "outputs": [
        {
          "output_type": "stream",
          "name": "stdout",
          "text": [
            "Current year: 2024\n",
            "Current month: 4\n",
            "Current day: 23\n"
          ]
        }
      ]
    },
    {
      "cell_type": "code",
      "source": [
        "today = date.today()\n",
        "\n",
        "d1 = today.strftime(\"%A\")\n",
        "print(\"Weekday:\", d1)"
      ],
      "metadata": {
        "colab": {
          "base_uri": "https://localhost:8080/"
        },
        "id": "okzHMQZO_FiQ",
        "outputId": "b7694e02-a133-4c82-f301-ba79d78270ca"
      },
      "execution_count": null,
      "outputs": [
        {
          "output_type": "stream",
          "name": "stdout",
          "text": [
            "Weekday: Tuesday\n"
          ]
        }
      ]
    },
    {
      "cell_type": "code",
      "source": [
        "# isoweekday 1 - Monday to 7 - Sunday\n",
        "today = date.today()\n",
        "\n",
        "day = date.isoweekday(today)\n",
        "print(\"Weekday:\", day)"
      ],
      "metadata": {
        "colab": {
          "base_uri": "https://localhost:8080/"
        },
        "id": "pMFJoXqs_Fkt",
        "outputId": "1323ab3b-5992-4af3-b273-4bc59a78e5b6"
      },
      "execution_count": null,
      "outputs": [
        {
          "output_type": "stream",
          "name": "stdout",
          "text": [
            "Weekday: 2\n"
          ]
        }
      ]
    },
    {
      "cell_type": "code",
      "source": [
        "# weekday 0 - Monday to 6 - Sunday\n",
        "\n",
        "today = date.today()\n",
        "\n",
        "day = date.weekday(today)\n",
        "print(\"Weekday:\", day)"
      ],
      "metadata": {
        "colab": {
          "base_uri": "https://localhost:8080/"
        },
        "id": "eryTaBnV_Ffu",
        "outputId": "63e366c1-4e78-4ece-8797-9bf1ab21d5bf"
      },
      "execution_count": null,
      "outputs": [
        {
          "output_type": "stream",
          "name": "stdout",
          "text": [
            "Weekday: 1\n"
          ]
        }
      ]
    },
    {
      "cell_type": "markdown",
      "source": [
        "# **Datetime class**"
      ],
      "metadata": {
        "id": "gY0LN6YrIYzJ"
      }
    },
    {
      "cell_type": "code",
      "source": [
        "from datetime import datetime\n",
        "\n",
        "# Getting Datetime from timestamp\n",
        "date_time = datetime.fromtimestamp(1887639468)\n",
        "print(\"Datetime from timestamp:\", date_time)"
      ],
      "metadata": {
        "colab": {
          "base_uri": "https://localhost:8080/"
        },
        "id": "VzCWO65B_Fmp",
        "outputId": "ef7a611c-ea80-47e4-dfbb-61a59f4dbcc8"
      },
      "execution_count": null,
      "outputs": [
        {
          "output_type": "stream",
          "name": "stdout",
          "text": [
            "Datetime from timestamp: 2029-10-25 16:17:48\n"
          ]
        }
      ]
    },
    {
      "cell_type": "code",
      "source": [
        "a = datetime(1999, 12, 12, 12, 12, 12)\n",
        "\n",
        "print(\"year =\", a.year)\n",
        "print(\"month =\", a.month)\n",
        "print(\"hour =\", a.hour)\n",
        "print(\"minute =\", a.minute)\n",
        "print(\"timestamp =\", a.timestamp())"
      ],
      "metadata": {
        "colab": {
          "base_uri": "https://localhost:8080/"
        },
        "id": "yU5niMc_Kw0Q",
        "outputId": "22e0db5a-fe20-42a3-9f4f-d8dff6e8e41a"
      },
      "execution_count": null,
      "outputs": [
        {
          "output_type": "stream",
          "name": "stdout",
          "text": [
            "year = 1999\n",
            "month = 12\n",
            "hour = 12\n",
            "minute = 12\n",
            "timestamp = 945000732.0\n"
          ]
        }
      ]
    },
    {
      "cell_type": "code",
      "source": [
        "# Calling now() function\n",
        "today = datetime.now()\n",
        "\n",
        "print(\"Current date and time is\", today)"
      ],
      "metadata": {
        "id": "G3IB8bTxK12j",
        "outputId": "e20781ca-eaf2-4928-8c94-ec168afc3452",
        "colab": {
          "base_uri": "https://localhost:8080/"
        }
      },
      "execution_count": null,
      "outputs": [
        {
          "output_type": "stream",
          "name": "stdout",
          "text": [
            "Current date and time is 2024-04-23 08:56:07.946635\n"
          ]
        }
      ]
    },
    {
      "cell_type": "markdown",
      "source": [
        "# **Time Class**"
      ],
      "metadata": {
        "id": "lQ0pKuYYKBql"
      }
    },
    {
      "cell_type": "code",
      "source": [
        "# Python program to\n",
        "# demonstrate time class\n",
        "\n",
        "from datetime import time\n",
        "\n",
        "# calling the constructor\n",
        "my_time = time(13, 24, 56)\n",
        "\n",
        "print(\"Entered time\", my_time)\n",
        "\n",
        "# calling constructor with 1\n",
        "# argument\n",
        "my_time = time(minute=12)\n",
        "print(\"\\nTime with one argument\", my_time)\n",
        "\n",
        "# Calling constructor with\n",
        "# 0 argument\n",
        "my_time = time()\n",
        "print(\"\\nTime without argument\", my_time)\n",
        "\n",
        "# Uncommenting time(hour = 26)\n",
        "# will rase an ValueError as\n",
        "# it is out of range\n",
        "\n",
        "# uncommenting time(hour ='23')\n",
        "# will raise TypeError as\n",
        "# string is passed instead of int"
      ],
      "metadata": {
        "colab": {
          "base_uri": "https://localhost:8080/"
        },
        "id": "hzkOJ1mw_FdW",
        "outputId": "418501d3-61c4-44fa-c559-c8bbd48571c2"
      },
      "execution_count": null,
      "outputs": [
        {
          "output_type": "stream",
          "name": "stdout",
          "text": [
            "Entered time 13:24:56\n",
            "\n",
            "Time with one argument 00:12:00\n",
            "\n",
            "Time without argument 00:00:00\n"
          ]
        }
      ]
    },
    {
      "cell_type": "code",
      "source": [
        "Time = time(11, 34, 56, 212)\n",
        "\n",
        "print(\"hour =\", Time.hour)\n",
        "print(\"minute =\", Time.minute)\n",
        "print(\"second =\", Time.second)\n",
        "print(\"microsecond =\", Time.microsecond)"
      ],
      "metadata": {
        "colab": {
          "base_uri": "https://localhost:8080/"
        },
        "id": "DY9_tcdY_FbL",
        "outputId": "f4c5b17a-5be9-4922-bf4a-0df1dc7dda0f"
      },
      "execution_count": null,
      "outputs": [
        {
          "output_type": "stream",
          "name": "stdout",
          "text": [
            "hour = 11\n",
            "minute = 34\n",
            "second = 56\n",
            "microsecond = 212\n"
          ]
        }
      ]
    },
    {
      "cell_type": "markdown",
      "source": [
        "# **Calendar Class**"
      ],
      "metadata": {
        "id": "xUSf3MDpQWMV"
      }
    },
    {
      "cell_type": "code",
      "source": [
        "import calendar\n",
        "\n",
        "yy = 2017\n",
        "mm = 12\n",
        "print(calendar.month(yy,mm))"
      ],
      "metadata": {
        "id": "k_8PAE56_FYh",
        "colab": {
          "base_uri": "https://localhost:8080/"
        },
        "outputId": "b1c2520b-a101-4aea-bb2c-3f5d19571df6"
      },
      "execution_count": null,
      "outputs": [
        {
          "output_type": "stream",
          "name": "stdout",
          "text": [
            "   December 2017\n",
            "Mo Tu We Th Fr Sa Su\n",
            "             1  2  3\n",
            " 4  5  6  7  8  9 10\n",
            "11 12 13 14 15 16 17\n",
            "18 19 20 21 22 23 24\n",
            "25 26 27 28 29 30 31\n",
            "\n"
          ]
        }
      ]
    },
    {
      "cell_type": "code",
      "source": [
        "print (\"The calendar of year 2018 is : \")\n",
        "print (calendar.calendar(2018))"
      ],
      "metadata": {
        "id": "w-zQaTIX_FVz",
        "colab": {
          "base_uri": "https://localhost:8080/"
        },
        "outputId": "dcb4e9d2-c572-4806-ab62-d8efb6ecf057"
      },
      "execution_count": null,
      "outputs": [
        {
          "output_type": "stream",
          "name": "stdout",
          "text": [
            "The calendar of year 2018 is : \n",
            "                                  2018\n",
            "\n",
            "      January                   February                   March\n",
            "Mo Tu We Th Fr Sa Su      Mo Tu We Th Fr Sa Su      Mo Tu We Th Fr Sa Su\n",
            " 1  2  3  4  5  6  7                1  2  3  4                1  2  3  4\n",
            " 8  9 10 11 12 13 14       5  6  7  8  9 10 11       5  6  7  8  9 10 11\n",
            "15 16 17 18 19 20 21      12 13 14 15 16 17 18      12 13 14 15 16 17 18\n",
            "22 23 24 25 26 27 28      19 20 21 22 23 24 25      19 20 21 22 23 24 25\n",
            "29 30 31                  26 27 28                  26 27 28 29 30 31\n",
            "\n",
            "       April                      May                       June\n",
            "Mo Tu We Th Fr Sa Su      Mo Tu We Th Fr Sa Su      Mo Tu We Th Fr Sa Su\n",
            "                   1          1  2  3  4  5  6                   1  2  3\n",
            " 2  3  4  5  6  7  8       7  8  9 10 11 12 13       4  5  6  7  8  9 10\n",
            " 9 10 11 12 13 14 15      14 15 16 17 18 19 20      11 12 13 14 15 16 17\n",
            "16 17 18 19 20 21 22      21 22 23 24 25 26 27      18 19 20 21 22 23 24\n",
            "23 24 25 26 27 28 29      28 29 30 31               25 26 27 28 29 30\n",
            "30\n",
            "\n",
            "        July                     August                  September\n",
            "Mo Tu We Th Fr Sa Su      Mo Tu We Th Fr Sa Su      Mo Tu We Th Fr Sa Su\n",
            "                   1             1  2  3  4  5                      1  2\n",
            " 2  3  4  5  6  7  8       6  7  8  9 10 11 12       3  4  5  6  7  8  9\n",
            " 9 10 11 12 13 14 15      13 14 15 16 17 18 19      10 11 12 13 14 15 16\n",
            "16 17 18 19 20 21 22      20 21 22 23 24 25 26      17 18 19 20 21 22 23\n",
            "23 24 25 26 27 28 29      27 28 29 30 31            24 25 26 27 28 29 30\n",
            "30 31\n",
            "\n",
            "      October                   November                  December\n",
            "Mo Tu We Th Fr Sa Su      Mo Tu We Th Fr Sa Su      Mo Tu We Th Fr Sa Su\n",
            " 1  2  3  4  5  6  7                1  2  3  4                      1  2\n",
            " 8  9 10 11 12 13 14       5  6  7  8  9 10 11       3  4  5  6  7  8  9\n",
            "15 16 17 18 19 20 21      12 13 14 15 16 17 18      10 11 12 13 14 15 16\n",
            "22 23 24 25 26 27 28      19 20 21 22 23 24 25      17 18 19 20 21 22 23\n",
            "29 30 31                  26 27 28 29 30            24 25 26 27 28 29 30\n",
            "                                                    31\n",
            "\n"
          ]
        }
      ]
    },
    {
      "cell_type": "code",
      "source": [
        "# importing calendar module\n",
        "from calendar import Calendar\n",
        "\n",
        "year = 2018\n",
        "month = 9\n",
        "obj = Calendar()\n",
        "\n",
        "# iterating with itermonthdates\n",
        "for day in obj.itermonthdates(year, month):\n",
        "    print(day)"
      ],
      "metadata": {
        "id": "NpUBH-PtRdJK"
      },
      "execution_count": null,
      "outputs": []
    },
    {
      "cell_type": "code",
      "source": [
        "# iterating with itermonthdays\n",
        "for day in obj.itermonthdays(year, month):\n",
        "    print(day)"
      ],
      "metadata": {
        "id": "zcKhbnU1ReIY"
      },
      "execution_count": null,
      "outputs": []
    }
  ]
}